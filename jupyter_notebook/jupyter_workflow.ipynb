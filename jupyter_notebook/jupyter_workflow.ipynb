{
 "cells": [
  {
   "cell_type": "code",
   "execution_count": 1,
   "metadata": {},
   "outputs": [
    {
     "name": "stdout",
     "output_type": "stream",
     "text": [
      "/home/oliver/projects/university/commonHitsApproach\n"
     ]
    }
   ],
   "source": [
    "cd .."
   ]
  },
  {
   "cell_type": "code",
   "execution_count": null,
   "metadata": {
    "collapsed": true
   },
   "outputs": [],
   "source": []
  },
  {
   "cell_type": "code",
   "execution_count": 2,
   "metadata": {},
   "outputs": [
    {
     "name": "stderr",
     "output_type": "stream",
     "text": [
      "/home/oliver/software/conda/miniconda3/lib/python3.9/site-packages/tqdm/auto.py:22: TqdmWarning: IProgress not found. Please update jupyter and ipywidgets. See https://ipywidgets.readthedocs.io/en/stable/user_install.html\n",
      "  from .autonotebook import tqdm as notebook_tqdm\n"
     ]
    },
    {
     "ename": "ModuleNotFoundError",
     "evalue": "No module named 'CDPL'",
     "output_type": "error",
     "traceback": [
      "\u001b[0;31m---------------------------------------------------------------------------\u001b[0m",
      "\u001b[0;31mModuleNotFoundError\u001b[0m                       Traceback (most recent call last)",
      "Cell \u001b[0;32mIn[2], line 2\u001b[0m\n\u001b[1;32m      1\u001b[0m \u001b[39m# Import the package\u001b[39;00m\n\u001b[0;32m----> 2\u001b[0m \u001b[39mimport\u001b[39;00m \u001b[39mcha\u001b[39;00m\n\u001b[1;32m      3\u001b[0m \u001b[39mimport\u001b[39;00m \u001b[39mglob\u001b[39;00m\u001b[39m,\u001b[39m \u001b[39mos\u001b[39;00m\n",
      "File \u001b[0;32m~/projects/university/commonHitsApproach/cha/__init__.py:28\u001b[0m\n\u001b[1;32m     25\u001b[0m __email__ \u001b[39m=\u001b[39m \u001b[39m\"\u001b[39m\u001b[39mmarcus.wieder@univie.ac.at\u001b[39m\u001b[39m\"\u001b[39m\n\u001b[1;32m     27\u001b[0m \u001b[39mfrom\u001b[39;00m \u001b[39mcha\u001b[39;00m \u001b[39mimport\u001b[39;00m generate_pdbs\n\u001b[0;32m---> 28\u001b[0m \u001b[39mfrom\u001b[39;00m \u001b[39mcha\u001b[39;00m \u001b[39mimport\u001b[39;00m generate_rpms\n\u001b[1;32m     29\u001b[0m \u001b[39mfrom\u001b[39;00m \u001b[39mcha\u001b[39;00m \u001b[39mimport\u001b[39;00m screen_with_rpms\n",
      "File \u001b[0;32m~/projects/university/commonHitsApproach/cha/generate_rpms.py:2\u001b[0m\n\u001b[1;32m      1\u001b[0m \u001b[39mimport\u001b[39;00m  \u001b[39mre\u001b[39;00m\u001b[39m,\u001b[39m \u001b[39mos\u001b[39;00m\n\u001b[0;32m----> 2\u001b[0m \u001b[39mimport\u001b[39;00m \u001b[39mCDPL\u001b[39;00m\u001b[39m.\u001b[39;00m\u001b[39mBase\u001b[39;00m \u001b[39mas\u001b[39;00m \u001b[39mBase\u001b[39;00m\n\u001b[1;32m      3\u001b[0m \u001b[39mimport\u001b[39;00m \u001b[39mCDPL\u001b[39;00m\u001b[39m.\u001b[39;00m\u001b[39mChem\u001b[39;00m \u001b[39mas\u001b[39;00m \u001b[39mChem\u001b[39;00m\n\u001b[1;32m      4\u001b[0m \u001b[39mimport\u001b[39;00m \u001b[39mCDPL\u001b[39;00m\u001b[39m.\u001b[39;00m\u001b[39mPharm\u001b[39;00m \u001b[39mas\u001b[39;00m \u001b[39mPharm\u001b[39;00m\n",
      "\u001b[0;31mModuleNotFoundError\u001b[0m: No module named 'CDPL'"
     ]
    }
   ],
   "source": [
    "# Import the package\n",
    "import cha\n",
    "import glob, os"
   ]
  },
  {
   "cell_type": "code",
   "execution_count": 3,
   "metadata": {
    "collapsed": true
   },
   "outputs": [
    {
     "ename": "IndentationError",
     "evalue": "unexpected indent (959440678.py, line 3)",
     "output_type": "error",
     "traceback": [
      "\u001b[0;36m  Cell \u001b[0;32mIn[3], line 3\u001b[0;36m\u001b[0m\n\u001b[0;31m    ['md2'] => ['pdb1', 'pdb2', ...]\u001b[0m\n\u001b[0m    ^\u001b[0m\n\u001b[0;31mIndentationError\u001b[0m\u001b[0;31m:\u001b[0m unexpected indent\n"
     ]
    }
   ],
   "source": [
    "### Make a map of lists -> if you have a single MD run: map['md1'] => ['pdb1', 'pdb2', ...], \n",
    "### if you have multiple MD runs: map['md1'] => ['pdb1', 'pdb2', ...],\n",
    "                                 ['md2'] => ['pdb1', 'pdb2', ...]"
   ]
  },
  {
   "cell_type": "code",
   "execution_count": 4,
   "metadata": {},
   "outputs": [],
   "source": [
    "map_of_pdbs = {}\n",
    "map_of_pdbs['mr1'] = ['/data/shared/projects/Dynamics/Analysis/1J4H_446410/RUN01/01pdb_files/MR_1/lp_96.pdb', '/data/shared/projects/Dynamics/Analysis/1J4H_446410/RUN01/01pdb_files/MR_1/lp_7.pdb']"
   ]
  },
  {
   "cell_type": "code",
   "execution_count": null,
   "metadata": {
    "collapsed": true
   },
   "outputs": [],
   "source": [
    "### generate the representative pharmacophore model facrotry -> as input the three letter code of the ligand (as ### written in the pdb file) is needed and the generated map_of_pdbs"
   ]
  },
  {
   "cell_type": "code",
   "execution_count": 5,
   "metadata": {},
   "outputs": [
    {
     "ename": "NameError",
     "evalue": "name 'cha' is not defined",
     "output_type": "error",
     "traceback": [
      "\u001b[0;31m---------------------------------------------------------------------------\u001b[0m",
      "\u001b[0;31mNameError\u001b[0m                                 Traceback (most recent call last)",
      "Cell \u001b[0;32mIn[5], line 1\u001b[0m\n\u001b[0;32m----> 1\u001b[0m rpms \u001b[39m=\u001b[39m cha\u001b[39m.\u001b[39mgenerate_rpms\u001b[39m.\u001b[39mgenerate_rpms_factory(map_of_pdbs, \u001b[39m'\u001b[39m\u001b[39mSUB\u001b[39m\u001b[39m'\u001b[39m)\n",
      "\u001b[0;31mNameError\u001b[0m: name 'cha' is not defined"
     ]
    }
   ],
   "source": [
    "rpms = cha.generate_rpms.generate_rpms_factory(map_of_pdbs, 'SUB')"
   ]
  },
  {
   "cell_type": "code",
   "execution_count": null,
   "metadata": {
    "collapsed": true
   },
   "outputs": [],
   "source": [
    "### read in pdbs and generate pharmacophore models and rpms (representative pharmacophore models)"
   ]
  },
  {
   "cell_type": "code",
   "execution_count": 6,
   "metadata": {},
   "outputs": [
    {
     "ename": "NameError",
     "evalue": "name 'rpms' is not defined",
     "output_type": "error",
     "traceback": [
      "\u001b[0;31m---------------------------------------------------------------------------\u001b[0m",
      "\u001b[0;31mNameError\u001b[0m                                 Traceback (most recent call last)",
      "Cell \u001b[0;32mIn[6], line 1\u001b[0m\n\u001b[0;32m----> 1\u001b[0m ph_map \u001b[39m=\u001b[39m rpms\u001b[39m.\u001b[39mread_pdb_and_generate_ph()\n",
      "\u001b[0;31mNameError\u001b[0m: name 'rpms' is not defined"
     ]
    }
   ],
   "source": [
    "ph_map = rpms.read_pdb_and_generate_ph()"
   ]
  },
  {
   "cell_type": "code",
   "execution_count": 14,
   "metadata": {},
   "outputs": [
    {
     "name": "stdout",
     "output_type": "stream",
     "text": [
      "11111\n",
      "01111\n"
     ]
    },
    {
     "data": {
      "text/plain": [
       "defaultdict(list, {'01111': ['mr1_2'], '11111': ['mr1_1']})"
      ]
     },
     "execution_count": 14,
     "metadata": {},
     "output_type": "execute_result"
    }
   ],
   "source": [
    "rpms.generate_rpms(ph_map)"
   ]
  },
  {
   "cell_type": "code",
   "execution_count": null,
   "metadata": {
    "collapsed": true
   },
   "outputs": [],
   "source": []
  }
 ],
 "metadata": {
  "kernelspec": {
   "display_name": "cha",
   "language": "python",
   "name": "python3"
  },
  "language_info": {
   "codemirror_mode": {
    "name": "ipython",
    "version": 3
   },
   "file_extension": ".py",
   "mimetype": "text/x-python",
   "name": "python",
   "nbconvert_exporter": "python",
   "pygments_lexer": "ipython3",
   "version": "3.9.12"
  }
 },
 "nbformat": 4,
 "nbformat_minor": 2
}
